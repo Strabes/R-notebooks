{
 "cells": [
  {
   "cell_type": "markdown",
   "metadata": {},
   "source": [
    "# Simple Example of Sparklyr\n",
    "\n",
    "#### Author: Greg Strabel\n",
    "\n",
    "This notebook provides a minimal working example of fitting a model using Sparklyr. The objective is to demonstrate:\n",
    "    1. Connecting to Spark with Sparklyr\n",
    "    2. Reading a csv into Spark\n",
    "    3. One-hot encoding categorical features\n",
    "    4. Fitting a Logistic GLM with Sparklyr\n",
    "    5. Using the fitted model to make predictions on test data and plot the corresponding ROC Curve"
   ]
  },
  {
   "cell_type": "code",
   "execution_count": 1,
   "metadata": {
    "collapsed": false
   },
   "outputs": [
    {
     "name": "stderr",
     "output_type": "stream",
     "text": [
      "Warning message:\n",
      "\"package 'sparklyr' was built under R version 3.5.2\""
     ]
    }
   ],
   "source": [
    "### Load libraries\n",
    "suppressMessages({\n",
    "library(sparklyr)\n",
    "library(dplyr)\n",
    "library(tidyr)\n",
    "library(ggplot2)\n",
    "})\n",
    "\n",
    "options(repr.plot.width = 8, repr.plot.height = 5, repr.plot.res = 100)\n",
    "\n",
    "### Configure Spark\n",
    "conf <- spark_config()\n",
    "#conf$spark.executor.memory <- \"2GB\"\n",
    "#conf$spark.memory.fraction <- 0.9\n",
    "\n",
    "### Start Spark\n",
    "sc <- spark_connect(master = \"local\",\n",
    "                    spark_home = \"C:/spark/spark-2.3.0-bin-hadoop2.7/\")"
   ]
  },
  {
   "cell_type": "code",
   "execution_count": 2,
   "metadata": {
    "collapsed": false
   },
   "outputs": [
    {
     "data": {
      "text/html": [
       "<table>\n",
       "<thead><tr><th scope=col>Feature_0</th><th scope=col>Feature_1</th><th scope=col>Feature_2</th><th scope=col>Feature_3</th><th scope=col>Feature_4</th><th scope=col>Feature_5</th><th scope=col>Response</th></tr></thead>\n",
       "<tbody>\n",
       "\t<tr><td>A3         </td><td>B7         </td><td>C22        </td><td>0.59602149 </td><td>0.041788377</td><td>0.67362878 </td><td>0          </td></tr>\n",
       "\t<tr><td>A3         </td><td>B1         </td><td>C27        </td><td>0.06570952 </td><td>0.269609522</td><td>0.88429246 </td><td>0          </td></tr>\n",
       "\t<tr><td>A3         </td><td>B3         </td><td>C27        </td><td>0.05997064 </td><td>0.563043162</td><td>0.76205029 </td><td>0          </td></tr>\n",
       "\t<tr><td>A0         </td><td>B2         </td><td>C26        </td><td>0.04782884 </td><td>0.289461224</td><td>0.91490289 </td><td>0          </td></tr>\n",
       "\t<tr><td>A1         </td><td>B7         </td><td>C25        </td><td>0.75214829 </td><td>0.001096625</td><td>0.02597133 </td><td>0          </td></tr>\n",
       "</tbody>\n",
       "</table>\n"
      ],
      "text/latex": [
       "\\begin{tabular}{r|lllllll}\n",
       " Feature\\_0 & Feature\\_1 & Feature\\_2 & Feature\\_3 & Feature\\_4 & Feature\\_5 & Response\\\\\n",
       "\\hline\n",
       "\t A3          & B7          & C22         & 0.59602149  & 0.041788377 & 0.67362878  & 0          \\\\\n",
       "\t A3          & B1          & C27         & 0.06570952  & 0.269609522 & 0.88429246  & 0          \\\\\n",
       "\t A3          & B3          & C27         & 0.05997064  & 0.563043162 & 0.76205029  & 0          \\\\\n",
       "\t A0          & B2          & C26         & 0.04782884  & 0.289461224 & 0.91490289  & 0          \\\\\n",
       "\t A1          & B7          & C25         & 0.75214829  & 0.001096625 & 0.02597133  & 0          \\\\\n",
       "\\end{tabular}\n"
      ],
      "text/markdown": [
       "\n",
       "Feature_0 | Feature_1 | Feature_2 | Feature_3 | Feature_4 | Feature_5 | Response | \n",
       "|---|---|---|---|---|\n",
       "| A3          | B7          | C22         | 0.59602149  | 0.041788377 | 0.67362878  | 0           | \n",
       "| A3          | B1          | C27         | 0.06570952  | 0.269609522 | 0.88429246  | 0           | \n",
       "| A3          | B3          | C27         | 0.05997064  | 0.563043162 | 0.76205029  | 0           | \n",
       "| A0          | B2          | C26         | 0.04782884  | 0.289461224 | 0.91490289  | 0           | \n",
       "| A1          | B7          | C25         | 0.75214829  | 0.001096625 | 0.02597133  | 0           | \n",
       "\n",
       "\n"
      ],
      "text/plain": [
       "  Feature_0 Feature_1 Feature_2 Feature_3  Feature_4   Feature_5  Response\n",
       "1 A3        B7        C22       0.59602149 0.041788377 0.67362878 0       \n",
       "2 A3        B1        C27       0.06570952 0.269609522 0.88429246 0       \n",
       "3 A3        B3        C27       0.05997064 0.563043162 0.76205029 0       \n",
       "4 A0        B2        C26       0.04782884 0.289461224 0.91490289 0       \n",
       "5 A1        B7        C25       0.75214829 0.001096625 0.02597133 0       "
      ]
     },
     "metadata": {},
     "output_type": "display_data"
    }
   ],
   "source": [
    "#### Read csv into Spark\n",
    "df <- spark_read_csv(sc = sc,\n",
    "                     name = 'df',\n",
    "                     path = 'BinaryClassifierData.csv')\n",
    "\n",
    "#### Take a look at the data\n",
    "df %>% head(5) %>% collect()"
   ]
  },
  {
   "cell_type": "code",
   "execution_count": 3,
   "metadata": {
    "collapsed": false
   },
   "outputs": [],
   "source": [
    "### One-hot encode the categorical features\n",
    "df <- df %>%\n",
    "  ft_string_indexer(\"Feature_0\",\"Feature_0_idx\") %>%\n",
    "  ft_one_hot_encoder(\"Feature_0_idx\",'Feature_0_Level') %>%\n",
    "  ft_string_indexer(\"Feature_1\",\"Feature_1_idx\") %>%\n",
    "  ft_one_hot_encoder(\"Feature_1_idx\",'Feature_1_Level') %>%\n",
    "  ft_string_indexer(\"Feature_2\",\"Feature_2_idx\") %>%\n",
    "  ft_one_hot_encoder(\"Feature_2_idx\",'Feature_2_Level')"
   ]
  },
  {
   "cell_type": "code",
   "execution_count": 4,
   "metadata": {
    "collapsed": false
   },
   "outputs": [
    {
     "data": {
      "text/html": [
       "<table>\n",
       "<thead><tr><th scope=col>Feature_0</th><th scope=col>Feature_1</th><th scope=col>Feature_2</th><th scope=col>Feature_3</th><th scope=col>Feature_4</th><th scope=col>Feature_5</th><th scope=col>Response</th><th scope=col>Feature_0_idx</th><th scope=col>Feature_0_Level</th><th scope=col>Feature_1_idx</th><th scope=col>Feature_1_Level</th><th scope=col>Feature_2_idx</th><th scope=col>Feature_2_Level</th></tr></thead>\n",
       "<tbody>\n",
       "\t<tr><td>A3                                                                                                           </td><td>B7                                                                                                           </td><td>C22                                                                                                          </td><td>0.59602149                                                                                                   </td><td>0.041788377                                                                                                  </td><td>0.67362878                                                                                                   </td><td>0                                                                                                            </td><td>0                                                                                                            </td><td>1, 0, 0, 0                                                                                                   </td><td>5                                                                                                            </td><td>0, 0, 0, 0, 0, 1, 0                                                                                          </td><td>19                                                                                                           </td><td>0, 0, 0, 0, 0, 0, 0, 0, 0, 0, 0, 0, 0, 0, 0, 0, 0, 0, 0, 1, 0, 0, 0, 0, 0, 0, 0, 0, 0, 0, 0, 0, 0, 0, 0, 0, 0</td></tr>\n",
       "\t<tr><td>A3                                                                                                           </td><td>B1                                                                                                           </td><td>C27                                                                                                          </td><td>0.06570952                                                                                                   </td><td>0.269609522                                                                                                  </td><td>0.88429246                                                                                                   </td><td>0                                                                                                            </td><td>0                                                                                                            </td><td>1, 0, 0, 0                                                                                                   </td><td>0                                                                                                            </td><td>1, 0, 0, 0, 0, 0, 0                                                                                          </td><td> 0                                                                                                           </td><td>1, 0, 0, 0, 0, 0, 0, 0, 0, 0, 0, 0, 0, 0, 0, 0, 0, 0, 0, 0, 0, 0, 0, 0, 0, 0, 0, 0, 0, 0, 0, 0, 0, 0, 0, 0, 0</td></tr>\n",
       "\t<tr><td>A3                                                                                                           </td><td>B3                                                                                                           </td><td>C27                                                                                                          </td><td>0.05997064                                                                                                   </td><td>0.563043162                                                                                                  </td><td>0.76205029                                                                                                   </td><td>0                                                                                                            </td><td>0                                                                                                            </td><td>1, 0, 0, 0                                                                                                   </td><td>1                                                                                                            </td><td>0, 1, 0, 0, 0, 0, 0                                                                                          </td><td> 0                                                                                                           </td><td>1, 0, 0, 0, 0, 0, 0, 0, 0, 0, 0, 0, 0, 0, 0, 0, 0, 0, 0, 0, 0, 0, 0, 0, 0, 0, 0, 0, 0, 0, 0, 0, 0, 0, 0, 0, 0</td></tr>\n",
       "\t<tr><td>A0                                                                                                           </td><td>B2                                                                                                           </td><td>C26                                                                                                          </td><td>0.04782884                                                                                                   </td><td>0.289461224                                                                                                  </td><td>0.91490289                                                                                                   </td><td>0                                                                                                            </td><td>1                                                                                                            </td><td>0, 1, 0, 0                                                                                                   </td><td>2                                                                                                            </td><td>0, 0, 1, 0, 0, 0, 0                                                                                          </td><td> 5                                                                                                           </td><td>0, 0, 0, 0, 0, 1, 0, 0, 0, 0, 0, 0, 0, 0, 0, 0, 0, 0, 0, 0, 0, 0, 0, 0, 0, 0, 0, 0, 0, 0, 0, 0, 0, 0, 0, 0, 0</td></tr>\n",
       "\t<tr><td>A1                                                                                                           </td><td>B7                                                                                                           </td><td>C25                                                                                                          </td><td>0.75214829                                                                                                   </td><td>0.001096625                                                                                                  </td><td>0.02597133                                                                                                   </td><td>0                                                                                                            </td><td>4                                                                                                            </td><td>0, 0, 0, 0                                                                                                   </td><td>5                                                                                                            </td><td>0, 0, 0, 0, 0, 1, 0                                                                                          </td><td> 7                                                                                                           </td><td>0, 0, 0, 0, 0, 0, 0, 1, 0, 0, 0, 0, 0, 0, 0, 0, 0, 0, 0, 0, 0, 0, 0, 0, 0, 0, 0, 0, 0, 0, 0, 0, 0, 0, 0, 0, 0</td></tr>\n",
       "</tbody>\n",
       "</table>\n"
      ],
      "text/latex": [
       "\\begin{tabular}{r|lllllllllllll}\n",
       " Feature\\_0 & Feature\\_1 & Feature\\_2 & Feature\\_3 & Feature\\_4 & Feature\\_5 & Response & Feature\\_0\\_idx & Feature\\_0\\_Level & Feature\\_1\\_idx & Feature\\_1\\_Level & Feature\\_2\\_idx & Feature\\_2\\_Level\\\\\n",
       "\\hline\n",
       "\t A3                                                                                                            & B7                                                                                                            & C22                                                                                                           & 0.59602149                                                                                                    & 0.041788377                                                                                                   & 0.67362878                                                                                                    & 0                                                                                                             & 0                                                                                                             & 1, 0, 0, 0                                                                                                    & 5                                                                                                             & 0, 0, 0, 0, 0, 1, 0                                                                                           & 19                                                                                                            & 0, 0, 0, 0, 0, 0, 0, 0, 0, 0, 0, 0, 0, 0, 0, 0, 0, 0, 0, 1, 0, 0, 0, 0, 0, 0, 0, 0, 0, 0, 0, 0, 0, 0, 0, 0, 0\\\\\n",
       "\t A3                                                                                                            & B1                                                                                                            & C27                                                                                                           & 0.06570952                                                                                                    & 0.269609522                                                                                                   & 0.88429246                                                                                                    & 0                                                                                                             & 0                                                                                                             & 1, 0, 0, 0                                                                                                    & 0                                                                                                             & 1, 0, 0, 0, 0, 0, 0                                                                                           &  0                                                                                                            & 1, 0, 0, 0, 0, 0, 0, 0, 0, 0, 0, 0, 0, 0, 0, 0, 0, 0, 0, 0, 0, 0, 0, 0, 0, 0, 0, 0, 0, 0, 0, 0, 0, 0, 0, 0, 0\\\\\n",
       "\t A3                                                                                                            & B3                                                                                                            & C27                                                                                                           & 0.05997064                                                                                                    & 0.563043162                                                                                                   & 0.76205029                                                                                                    & 0                                                                                                             & 0                                                                                                             & 1, 0, 0, 0                                                                                                    & 1                                                                                                             & 0, 1, 0, 0, 0, 0, 0                                                                                           &  0                                                                                                            & 1, 0, 0, 0, 0, 0, 0, 0, 0, 0, 0, 0, 0, 0, 0, 0, 0, 0, 0, 0, 0, 0, 0, 0, 0, 0, 0, 0, 0, 0, 0, 0, 0, 0, 0, 0, 0\\\\\n",
       "\t A0                                                                                                            & B2                                                                                                            & C26                                                                                                           & 0.04782884                                                                                                    & 0.289461224                                                                                                   & 0.91490289                                                                                                    & 0                                                                                                             & 1                                                                                                             & 0, 1, 0, 0                                                                                                    & 2                                                                                                             & 0, 0, 1, 0, 0, 0, 0                                                                                           &  5                                                                                                            & 0, 0, 0, 0, 0, 1, 0, 0, 0, 0, 0, 0, 0, 0, 0, 0, 0, 0, 0, 0, 0, 0, 0, 0, 0, 0, 0, 0, 0, 0, 0, 0, 0, 0, 0, 0, 0\\\\\n",
       "\t A1                                                                                                            & B7                                                                                                            & C25                                                                                                           & 0.75214829                                                                                                    & 0.001096625                                                                                                   & 0.02597133                                                                                                    & 0                                                                                                             & 4                                                                                                             & 0, 0, 0, 0                                                                                                    & 5                                                                                                             & 0, 0, 0, 0, 0, 1, 0                                                                                           &  7                                                                                                            & 0, 0, 0, 0, 0, 0, 0, 1, 0, 0, 0, 0, 0, 0, 0, 0, 0, 0, 0, 0, 0, 0, 0, 0, 0, 0, 0, 0, 0, 0, 0, 0, 0, 0, 0, 0, 0\\\\\n",
       "\\end{tabular}\n"
      ],
      "text/markdown": [
       "\n",
       "Feature_0 | Feature_1 | Feature_2 | Feature_3 | Feature_4 | Feature_5 | Response | Feature_0_idx | Feature_0_Level | Feature_1_idx | Feature_1_Level | Feature_2_idx | Feature_2_Level | \n",
       "|---|---|---|---|---|\n",
       "| A3                                                                                                            | B7                                                                                                            | C22                                                                                                           | 0.59602149                                                                                                    | 0.041788377                                                                                                   | 0.67362878                                                                                                    | 0                                                                                                             | 0                                                                                                             | 1, 0, 0, 0                                                                                                    | 5                                                                                                             | 0, 0, 0, 0, 0, 1, 0                                                                                           | 19                                                                                                            | 0, 0, 0, 0, 0, 0, 0, 0, 0, 0, 0, 0, 0, 0, 0, 0, 0, 0, 0, 1, 0, 0, 0, 0, 0, 0, 0, 0, 0, 0, 0, 0, 0, 0, 0, 0, 0 | \n",
       "| A3                                                                                                            | B1                                                                                                            | C27                                                                                                           | 0.06570952                                                                                                    | 0.269609522                                                                                                   | 0.88429246                                                                                                    | 0                                                                                                             | 0                                                                                                             | 1, 0, 0, 0                                                                                                    | 0                                                                                                             | 1, 0, 0, 0, 0, 0, 0                                                                                           |  0                                                                                                            | 1, 0, 0, 0, 0, 0, 0, 0, 0, 0, 0, 0, 0, 0, 0, 0, 0, 0, 0, 0, 0, 0, 0, 0, 0, 0, 0, 0, 0, 0, 0, 0, 0, 0, 0, 0, 0 | \n",
       "| A3                                                                                                            | B3                                                                                                            | C27                                                                                                           | 0.05997064                                                                                                    | 0.563043162                                                                                                   | 0.76205029                                                                                                    | 0                                                                                                             | 0                                                                                                             | 1, 0, 0, 0                                                                                                    | 1                                                                                                             | 0, 1, 0, 0, 0, 0, 0                                                                                           |  0                                                                                                            | 1, 0, 0, 0, 0, 0, 0, 0, 0, 0, 0, 0, 0, 0, 0, 0, 0, 0, 0, 0, 0, 0, 0, 0, 0, 0, 0, 0, 0, 0, 0, 0, 0, 0, 0, 0, 0 | \n",
       "| A0                                                                                                            | B2                                                                                                            | C26                                                                                                           | 0.04782884                                                                                                    | 0.289461224                                                                                                   | 0.91490289                                                                                                    | 0                                                                                                             | 1                                                                                                             | 0, 1, 0, 0                                                                                                    | 2                                                                                                             | 0, 0, 1, 0, 0, 0, 0                                                                                           |  5                                                                                                            | 0, 0, 0, 0, 0, 1, 0, 0, 0, 0, 0, 0, 0, 0, 0, 0, 0, 0, 0, 0, 0, 0, 0, 0, 0, 0, 0, 0, 0, 0, 0, 0, 0, 0, 0, 0, 0 | \n",
       "| A1                                                                                                            | B7                                                                                                            | C25                                                                                                           | 0.75214829                                                                                                    | 0.001096625                                                                                                   | 0.02597133                                                                                                    | 0                                                                                                             | 4                                                                                                             | 0, 0, 0, 0                                                                                                    | 5                                                                                                             | 0, 0, 0, 0, 0, 1, 0                                                                                           |  7                                                                                                            | 0, 0, 0, 0, 0, 0, 0, 1, 0, 0, 0, 0, 0, 0, 0, 0, 0, 0, 0, 0, 0, 0, 0, 0, 0, 0, 0, 0, 0, 0, 0, 0, 0, 0, 0, 0, 0 | \n",
       "\n",
       "\n"
      ],
      "text/plain": [
       "  Feature_0 Feature_1 Feature_2 Feature_3  Feature_4   Feature_5  Response\n",
       "1 A3        B7        C22       0.59602149 0.041788377 0.67362878 0       \n",
       "2 A3        B1        C27       0.06570952 0.269609522 0.88429246 0       \n",
       "3 A3        B3        C27       0.05997064 0.563043162 0.76205029 0       \n",
       "4 A0        B2        C26       0.04782884 0.289461224 0.91490289 0       \n",
       "5 A1        B7        C25       0.75214829 0.001096625 0.02597133 0       \n",
       "  Feature_0_idx Feature_0_Level Feature_1_idx Feature_1_Level     Feature_2_idx\n",
       "1 0             1, 0, 0, 0      5             0, 0, 0, 0, 0, 1, 0 19           \n",
       "2 0             1, 0, 0, 0      0             1, 0, 0, 0, 0, 0, 0  0           \n",
       "3 0             1, 0, 0, 0      1             0, 1, 0, 0, 0, 0, 0  0           \n",
       "4 1             0, 1, 0, 0      2             0, 0, 1, 0, 0, 0, 0  5           \n",
       "5 4             0, 0, 0, 0      5             0, 0, 0, 0, 0, 1, 0  7           \n",
       "  Feature_2_Level                                                                                              \n",
       "1 0, 0, 0, 0, 0, 0, 0, 0, 0, 0, 0, 0, 0, 0, 0, 0, 0, 0, 0, 1, 0, 0, 0, 0, 0, 0, 0, 0, 0, 0, 0, 0, 0, 0, 0, 0, 0\n",
       "2 1, 0, 0, 0, 0, 0, 0, 0, 0, 0, 0, 0, 0, 0, 0, 0, 0, 0, 0, 0, 0, 0, 0, 0, 0, 0, 0, 0, 0, 0, 0, 0, 0, 0, 0, 0, 0\n",
       "3 1, 0, 0, 0, 0, 0, 0, 0, 0, 0, 0, 0, 0, 0, 0, 0, 0, 0, 0, 0, 0, 0, 0, 0, 0, 0, 0, 0, 0, 0, 0, 0, 0, 0, 0, 0, 0\n",
       "4 0, 0, 0, 0, 0, 1, 0, 0, 0, 0, 0, 0, 0, 0, 0, 0, 0, 0, 0, 0, 0, 0, 0, 0, 0, 0, 0, 0, 0, 0, 0, 0, 0, 0, 0, 0, 0\n",
       "5 0, 0, 0, 0, 0, 0, 0, 1, 0, 0, 0, 0, 0, 0, 0, 0, 0, 0, 0, 0, 0, 0, 0, 0, 0, 0, 0, 0, 0, 0, 0, 0, 0, 0, 0, 0, 0"
      ]
     },
     "metadata": {},
     "output_type": "display_data"
    }
   ],
   "source": [
    "#### Take a look at the data again\n",
    "df %>% head(5) %>% collect()"
   ]
  },
  {
   "cell_type": "code",
   "execution_count": 5,
   "metadata": {
    "collapsed": true
   },
   "outputs": [],
   "source": [
    "#### Fit Logistic GLM\n",
    "glm.model <- df %>%\n",
    "  ml_generalized_linear_regression(Response ~\n",
    "                                     Feature_0_Level +\n",
    "                                     Feature_1_Level +\n",
    "                                     Feature_2_Level +\n",
    "                                     Feature_3 +\n",
    "                                     Feature_4 +\n",
    "                                     Feature_5,\n",
    "                                   link = \"logit\",\n",
    "                                   family = 'binomial',\n",
    "                                   fit_intercept = T)"
   ]
  },
  {
   "cell_type": "code",
   "execution_count": 6,
   "metadata": {
    "collapsed": false
   },
   "outputs": [
    {
     "data": {
      "text/plain": [
       "<jobj[173]>\n",
       "  org.apache.spark.ml.regression.GeneralizedLinearRegressionTrainingSummary\n",
       "  Coefficients:\n",
       "            Feature Estimate Std Error  T Value P Value\n",
       "        (Intercept)  -4.5179    0.4976  -9.0789  0.0000\n",
       " Feature_0_Level_A3   1.2436    0.1520   8.1819  0.0000\n",
       " Feature_0_Level_A0   1.4586    0.1538   9.4852  0.0000\n",
       " Feature_0_Level_A2   0.7020    0.1689   4.1555  0.0000\n",
       " Feature_0_Level_A4   1.0402    0.1691   6.1533  0.0000\n",
       " Feature_1_Level_B1   0.4588    0.1025   4.4759  0.0000\n",
       " Feature_1_Level_B3   0.3339    0.1087   3.0702  0.0021\n",
       " Feature_1_Level_B2   0.3909    0.1014   3.8558  0.0001\n",
       " Feature_1_Level_B6  -0.5859    0.1081  -5.4214  0.0000\n",
       " Feature_1_Level_B5   0.1774    0.1039   1.7074  0.0877\n",
       " Feature_1_Level_B7  -0.0193    0.1080  -0.1789  0.8580\n",
       " Feature_1_Level_B4  -0.2176    0.1160  -1.8767  0.0606\n",
       "Feature_2_Level_C27   0.0186    0.4620   0.0403  0.9678\n",
       "Feature_2_Level_C28   0.2703    0.4623   0.5846  0.5588\n",
       " Feature_2_Level_C0  -0.1807    0.4627  -0.3904  0.6962\n",
       "Feature_2_Level_C29   0.0926    0.4624   0.2002  0.8414\n",
       "Feature_2_Level_C31  -0.2866    0.4636  -0.6181  0.5365\n",
       "Feature_2_Level_C26  -0.2409    0.4636  -0.5196  0.6033\n",
       " Feature_2_Level_C4  -0.2348    0.4640  -0.5059  0.6129\n",
       "Feature_2_Level_C25   0.6133    0.4629   1.3248  0.1852\n",
       "Feature_2_Level_C17  -0.2927    0.4642  -0.6305  0.5284\n",
       "Feature_2_Level_C36  -0.1049    0.4639  -0.2261  0.8211\n",
       " Feature_2_Level_C1  -0.0836    0.4645  -0.1801  0.8571\n",
       "Feature_2_Level_C30  -0.2102    0.4646  -0.4525  0.6509\n",
       "Feature_2_Level_C23  -0.3016    0.4653  -0.6482  0.5169\n",
       "Feature_2_Level_C21  -0.2790    0.4658  -0.5988  0.5493\n",
       "Feature_2_Level_C16  -0.2747    0.4660  -0.5895  0.5555\n",
       " Feature_2_Level_C9   0.2937    0.4656   0.6308  0.5282\n",
       " Feature_2_Level_C8  -0.0874    0.4669  -0.1871  0.8516\n",
       "Feature_2_Level_C15  -0.1745    0.4662  -0.3742  0.7083\n",
       "Feature_2_Level_C35  -0.3048    0.4670  -0.6526  0.5140\n",
       "Feature_2_Level_C22   0.0806    0.4669   0.1726  0.8630\n",
       "Feature_2_Level_C18  -0.1889    0.4676  -0.4041  0.6862\n",
       "Feature_2_Level_C37  -0.4826    0.4714  -1.0239  0.3059\n",
       "Feature_2_Level_C11  -0.3393    0.4705  -0.7211  0.4709\n",
       "Feature_2_Level_C10  -0.1418    0.4692  -0.3023  0.7625\n",
       " Feature_2_Level_C5  -0.2588    0.4727  -0.5476  0.5840\n",
       "Feature_2_Level_C12  -0.2259    0.4722  -0.4785  0.6323\n",
       " Feature_2_Level_C7   0.3733    0.4694   0.7953  0.4265\n",
       "Feature_2_Level_C19   0.0311    0.4729   0.0657  0.9476\n",
       "Feature_2_Level_C34  -0.2294    0.4777  -0.4802  0.6311\n",
       "Feature_2_Level_C24  -0.1965    0.4880  -0.4027  0.6872\n",
       " Feature_2_Level_C3  -0.2245    0.4917  -0.4566  0.6480\n",
       "Feature_2_Level_C14  -0.2229    0.4901  -0.4548  0.6492\n",
       " Feature_2_Level_C6   0.0932    0.4961   0.1879  0.8509\n",
       "Feature_2_Level_C20  -0.4527    0.5144  -0.8801  0.3788\n",
       "Feature_2_Level_C13  -0.0760    0.5129  -0.1482  0.8822\n",
       "Feature_2_Level_C33  -0.2503    0.5175  -0.4836  0.6287\n",
       " Feature_2_Level_C2   0.1605    0.5092   0.3153  0.7526\n",
       "          Feature_3   0.6900    0.0726   9.4998  0.0000\n",
       "          Feature_4  -1.1516    0.1117 -10.3079  0.0000\n",
       "          Feature_5   0.0381    0.0515   0.7402  0.4592\n",
       "\n",
       "(Dispersion parameter for binomial family taken to be 1.0000)\n",
       "    Null deviance: 79512.0631 on 199948 degrees of freedom\n",
       "Residual deviance: 77508.9005 on 199948 degrees of freedom\n",
       "AIC: 77612.9005"
      ]
     },
     "metadata": {},
     "output_type": "display_data"
    }
   ],
   "source": [
    "### Coefficients, deviance and AIC\n",
    "glm.model$summary$.jobj"
   ]
  },
  {
   "cell_type": "code",
   "execution_count": 7,
   "metadata": {
    "collapsed": false
   },
   "outputs": [],
   "source": [
    "### Predict on the test data\n",
    "glm_predict <- sdf_predict(df,glm.model)\n",
    "\n",
    "glm_predict <- glm_predict %>%\n",
    "  dplyr::select(Response,prediction) %>%\n",
    "  collect()\n",
    "\n",
    "#quantile(glm_predict$prediction,probs = c(0:9/10,0.95,1))\n",
    "\n",
    "### Calculate the ROC Curve\n",
    "simple_roc <- function(labels, scores){\n",
    "  labels <- labels[order(scores, decreasing=TRUE)]\n",
    "  data.frame(TPR=cumsum(labels)/sum(labels),\n",
    "             FPR=cumsum(!labels)/sum(!labels),\n",
    "             labels)\n",
    "}\n",
    "\n",
    "ROC <- simple_roc(glm_predict$Response,glm_predict$prediction)"
   ]
  },
  {
   "cell_type": "code",
   "execution_count": 8,
   "metadata": {
    "collapsed": false
   },
   "outputs": [
    {
     "data": {},
     "metadata": {},
     "output_type": "display_data"
    },
    {
     "data": {
      "image/png": "[encoded data removed]",
      "text/plain": [
       "plot without title"
      ]
     },
     "metadata": {},
     "output_type": "display_data"
    }
   ],
   "source": [
    "### Plot the ROC Curve\n",
    "ggplot(ROC) +\n",
    "  geom_line(aes(x=FPR,y=TPR,color=\"ROC\")) +\n",
    "  geom_abline(intercept = 0,slope = 1) +\n",
    "  theme(legend.position = 'none',\n",
    "        plot.title = element_text(hjust = 0.5)) +\n",
    "  xlab('False Positive Rate') +\n",
    "  ylab('True Positive Rate') +\n",
    "  ggtitle('Receiver Operating Characteristic Curve')"
   ]
  },
  {
   "cell_type": "code",
   "execution_count": 9,
   "metadata": {
    "collapsed": false
   },
   "outputs": [
    {
     "data": {
      "text/plain": [
       "NULL"
      ]
     },
     "metadata": {},
     "output_type": "display_data"
    }
   ],
   "source": [
    "### End spark session\n",
    "spark_disconnect(sc)"
   ]
  }
 ],
 "metadata": {
  "anaconda-cloud": {},
  "kernelspec": {
   "display_name": "R 3.5",
   "language": "R",
   "name": "ir35"
  },
  "language_info": {
   "codemirror_mode": "r",
   "file_extension": ".r",
   "mimetype": "text/x-r-source",
   "name": "R",
   "pygments_lexer": "r",
   "version": "3.5.1"
  }
 },
 "nbformat": 4,
 "nbformat_minor": 2
}
