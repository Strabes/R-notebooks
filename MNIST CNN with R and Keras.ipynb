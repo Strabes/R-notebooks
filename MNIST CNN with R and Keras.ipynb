{
 "cells": [
  {
   "cell_type": "markdown",
   "metadata": {},
   "source": [
    "# MNIST Image Recognition with Convolutional Neural Network\n",
    "\n",
    "Author: Greg Strabel\n",
    "\n",
    "This notebook takes the code from [this example](https://keras.rstudio.com/articles/examples/mnist_cnn.html) and adds a few plots as well as a confusion matrix classification report to give the reader a better feel for the power of a simple CNN."
   ]
  },
  {
   "cell_type": "code",
   "execution_count": 18,
   "metadata": {
    "collapsed": false
   },
   "outputs": [
    {
     "name": "stdout",
     "output_type": "stream",
     "text": [
      "x_train_shape: 60000 28 28 1 \n",
      "60000 train samples\n",
      "10000 test samples\n"
     ]
    }
   ],
   "source": [
    "library(keras)\n",
    "library(reticulate)\n",
    "\n",
    "# Data Preparation -----------------------------------------------------\n",
    "\n",
    "batch_size <- 128\n",
    "num_classes <- 10\n",
    "epochs <- 1\n",
    "\n",
    "# Input image dimensions\n",
    "img_rows <- 28\n",
    "img_cols <- 28\n",
    "\n",
    "# The data, shuffled and split between train and test sets\n",
    "mnist <- dataset_mnist()\n",
    "x_train <- mnist$train$x\n",
    "y_train <- mnist$train$y\n",
    "x_test <- mnist$test$x\n",
    "y_test <- mnist$test$y\n",
    "\n",
    "# Redefine  dimension of train/test inputs\n",
    "x_train <- array_reshape(x_train, c(nrow(x_train), img_rows, img_cols, 1), order = 'F')\n",
    "x_test <- array_reshape(x_test, c(nrow(x_test), img_rows, img_cols, 1), order = 'F')\n",
    "input_shape <- c(img_rows, img_cols, 1)\n",
    "\n",
    "# Transform RGB values into [0,1] range\n",
    "x_train <- x_train / 255\n",
    "x_test <- x_test / 255\n",
    "\n",
    "cat('x_train_shape:', dim(x_train), '\\n')\n",
    "cat(nrow(x_train), 'train samples\\n')\n",
    "cat(nrow(x_test), 'test samples\\n')\n",
    "\n",
    "# Convert class vectors to binary class matrices\n",
    "y_train <- to_categorical(y_train, num_classes)\n",
    "y_test <- to_categorical(y_test, num_classes)"
   ]
  },
  {
   "cell_type": "code",
   "execution_count": 67,
   "metadata": {
    "collapsed": false
   },
   "outputs": [
    {
     "data": {
      "image/png": "[encoded data removed]",
      "text/plain": [
       "plot without title"
      ]
     },
     "metadata": {},
     "output_type": "display_data"
    }
   ],
   "source": [
    "# Take a look at one training example for each character\n",
    "layout(matrix(1:12,nr=3,byr=T))\n",
    "for(i in 1:10){\n",
    "    image(t(apply(as.matrix(x_train[which.max(y_train[,i]),,,]),2,rev)),axes=FALSE, xlab = paste('Label: ',i-1))\n",
    "}"
   ]
  },
  {
   "cell_type": "code",
   "execution_count": 58,
   "metadata": {
    "collapsed": false
   },
   "outputs": [
    {
     "name": "stdout",
     "output_type": "stream",
     "text": [
      "Test loss: 0.07456694 \n",
      "Test accuracy: 0.9764 \n"
     ]
    }
   ],
   "source": [
    "# Define Model -----------------------------------------------------------\n",
    "\n",
    "model <- keras_model_sequential()\n",
    "model %>%\n",
    "  layer_conv_2d(filters = 32, kernel_size = c(3,3), activation = 'relu',\n",
    "                input_shape = input_shape) %>% \n",
    "  layer_conv_2d(filters = 64, kernel_size = c(3,3), activation = 'relu') %>% \n",
    "  layer_max_pooling_2d(pool_size = c(2, 2)) %>% \n",
    "  layer_dropout(rate = 0.25) %>% \n",
    "  layer_flatten() %>% \n",
    "  layer_dense(units = 128, activation = 'relu') %>% \n",
    "  layer_dropout(rate = 0.5) %>% \n",
    "  layer_dense(units = num_classes, activation = 'softmax')\n",
    "\n",
    "# Compile model\n",
    "model %>% compile(\n",
    "  loss = loss_categorical_crossentropy,\n",
    "  optimizer = optimizer_adadelta(),\n",
    "  metrics = c('accuracy')\n",
    ")\n",
    "\n",
    "# Train & Evaluate -------------------------------------------------------\n",
    "\n",
    "model %>% fit(\n",
    "  x_train, y_train,\n",
    "  batch_size = batch_size,\n",
    "  epochs = epochs,\n",
    "  verbose = 1,\n",
    "  validation_data = list(x_test, y_test)\n",
    ")\n",
    "scores <- model %>% evaluate(\n",
    "  x_test, y_test, verbose = 0\n",
    ")\n",
    "\n",
    "# Output metrics\n",
    "cat('Test loss:', scores[[1]], '\\n')\n",
    "cat('Test accuracy:', scores[[2]], '\\n')\n"
   ]
  },
  {
   "cell_type": "code",
   "execution_count": 69,
   "metadata": {
    "collapsed": false
   },
   "outputs": [],
   "source": [
    "# Predict the class of each observation in the test data\n",
    "test_pred_class <- model %>% predict_classes(x_test)"
   ]
  },
  {
   "cell_type": "code",
   "execution_count": 82,
   "metadata": {
    "collapsed": false
   },
   "outputs": [
    {
     "name": "stdout",
     "output_type": "stream",
     "text": [
      "Confusion Matrix and Statistics\n",
      "\n",
      "          Reference\n",
      "Prediction    0    1    2    3    4    5    6    7    8    9\n",
      "         0  973    0    7    0    1    2    6    1    5    6\n",
      "         1    0 1124    7    0    1    1    3    5    1    5\n",
      "         2    0    1  991    1    2    0    0   11    1    0\n",
      "         3    0    3   10  991    0    5    0    5    3    3\n",
      "         4    0    0    3    0  965    0    4    0    4   10\n",
      "         5    1    0    0    7    0  877    4    0    2    6\n",
      "         6    2    4    1    0    6    4  939    0    1    0\n",
      "         7    1    1   10    8    0    2    0 1000    8   10\n",
      "         8    3    2    3    3    2    1    2    2  943    8\n",
      "         9    0    0    0    0    5    0    0    4    6  961\n",
      "\n",
      "Overall Statistics\n",
      "                                          \n",
      "               Accuracy : 0.9764          \n",
      "                 95% CI : (0.9732, 0.9793)\n",
      "    No Information Rate : 0.1135          \n",
      "    P-Value [Acc > NIR] : < 2.2e-16       \n",
      "                                          \n",
      "                  Kappa : 0.9738          \n",
      " Mcnemar's Test P-Value : NA              \n",
      "\n",
      "Statistics by Class:\n",
      "\n",
      "                     Class: 0 Class: 1 Class: 2 Class: 3 Class: 4 Class: 5\n",
      "Sensitivity            0.9929   0.9903   0.9603   0.9812   0.9827   0.9832\n",
      "Specificity            0.9969   0.9974   0.9982   0.9968   0.9977   0.9978\n",
      "Pos Pred Value         0.9720   0.9799   0.9841   0.9716   0.9787   0.9777\n",
      "Neg Pred Value         0.9992   0.9988   0.9954   0.9979   0.9981   0.9984\n",
      "Prevalence             0.0980   0.1135   0.1032   0.1010   0.0982   0.0892\n",
      "Detection Rate         0.0973   0.1124   0.0991   0.0991   0.0965   0.0877\n",
      "Detection Prevalence   0.1001   0.1147   0.1007   0.1020   0.0986   0.0897\n",
      "Balanced Accuracy      0.9949   0.9939   0.9792   0.9890   0.9902   0.9905\n",
      "                     Class: 6 Class: 7 Class: 8 Class: 9\n",
      "Sensitivity            0.9802   0.9728   0.9682   0.9524\n",
      "Specificity            0.9980   0.9955   0.9971   0.9983\n",
      "Pos Pred Value         0.9812   0.9615   0.9732   0.9846\n",
      "Neg Pred Value         0.9979   0.9969   0.9966   0.9947\n",
      "Prevalence             0.0958   0.1028   0.0974   0.1009\n",
      "Detection Rate         0.0939   0.1000   0.0943   0.0961\n",
      "Detection Prevalence   0.0957   0.1040   0.0969   0.0976\n",
      "Balanced Accuracy      0.9891   0.9842   0.9826   0.9754\n"
     ]
    }
   ],
   "source": [
    "# Display the confusion matrix and classification report\n",
    "library(caret)\n",
    "print(confusionMatrix(test_pred_class,max.col(y_test)-1))"
   ]
  },
  {
   "cell_type": "code",
   "execution_count": 74,
   "metadata": {
    "collapsed": false
   },
   "outputs": [
    {
     "data": {
      "image/png": "[encoded data removed]",
      "text/plain": [
       "plot without title"
      ]
     },
     "metadata": {},
     "output_type": "display_data"
    }
   ],
   "source": [
    "# For each character, display the first true instance of it in the test dataset along with the model prediction\n",
    "layout(matrix(1:12,nr=3,byr=T))\n",
    "for(i in 1:10){\n",
    "    idx = which.max(y_test[,i])\n",
    "    image(t(apply(as.matrix(x_test[idx,,,]),2,rev)),axes=FALSE,\n",
    "          xlab = paste('True Label: ',i-1, '\\nPred Label: ',test_pred_class[idx]))\n",
    "}"
   ]
  }
 ],
 "metadata": {
  "kernelspec": {
   "display_name": "R",
   "language": "R",
   "name": "ir"
  },
  "language_info": {
   "codemirror_mode": "r",
   "file_extension": ".r",
   "mimetype": "text/x-r-source",
   "name": "R",
   "pygments_lexer": "r",
   "version": "3.3.3"
  }
 },
 "nbformat": 4,
 "nbformat_minor": 2
}
